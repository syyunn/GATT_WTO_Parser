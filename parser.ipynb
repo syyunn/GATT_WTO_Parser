{
 "cells": [
  {
   "cell_type": "code",
   "execution_count": 144,
   "metadata": {},
   "outputs": [],
   "source": [
    "import re\n",
    "import pandas as pd\n",
    "import pdftotext"
   ]
  },
  {
   "cell_type": "code",
   "execution_count": 145,
   "metadata": {},
   "outputs": [],
   "source": [
    "#\"/Users/zachary/Downloads/wto.csv\""
   ]
  },
  {
   "cell_type": "code",
   "execution_count": 146,
   "metadata": {},
   "outputs": [],
   "source": [
    "class WTO_parser():\n",
    "    def __init__(self,filepath):\n",
    "        self.df = pd.read_csv(filepath, header= 0, index_col=0)\n",
    "    \n",
    "    def panel_exist(self):\n",
    "        panel_index = []\n",
    "        for i in range(0,len(self.df['maker_pr'])):\n",
    "            binar = self.df['maker_pr'][i]\n",
    "            if binar == 1:\n",
    "                panel_index.append(i+1)\n",
    "        self.panel_exist = panel_index\n",
    "        return panel_index\n",
    "\n",
    "    def gatt_III(self):\n",
    "        #check whether the GATT ArtIII cited\n",
    "        GATT_III = []\n",
    "        #make the list which GATT_III cited and also has panel report \n",
    "        for i in range(0, len(self.df['cited'])):\n",
    "            if re.search(r\"(?<=)(GATT 1994:)(.*)(, III|Art. III)(.*)(?=')\", self.df['cited'][i]): #parenthesis in Regex refers to the (grouped expression) \n",
    "                if self.df['maker_pr'][i] == 1 :\n",
    "                    GATT_III.append(i+1) \n",
    "        return GATT_III"
   ]
  },
  {
   "cell_type": "code",
   "execution_count": 147,
   "metadata": {},
   "outputs": [],
   "source": [
    "trial = WTO_parser(\"/Users/zachary/Downloads/wto.csv\")"
   ]
  },
  {
   "cell_type": "code",
   "execution_count": 148,
   "metadata": {},
   "outputs": [],
   "source": [
    "#\"/Users/zachary/Downloads/{}R.pdf\""
   ]
  },
  {
   "cell_type": "code",
   "execution_count": 149,
   "metadata": {},
   "outputs": [],
   "source": [
    "class Panel_parser():\n",
    "    def __init__(self, filepath, ds_numb):\n",
    "        with open(filepath.format(ds_numb), \"rb\") as f:\n",
    "            pdf = pdftotext.PDF(f)\n",
    "        self.pdf = pdf\n",
    "        \n",
    "    def toc_locator(self):\n",
    "        for i in range(0, len(self.pdf)):\n",
    "            if \"Table of Contents\" in self.pdf[i]:\n",
    "                self.table = i\n",
    "                print(\"At page {}, Table of Contents located\\n\".format(self.table))\n",
    "                print(\"Call your value with the variable \\\"table\\\"\\n\")\n",
    "                print(\"If you hit self.table, it returns the toc page: {}\".format(self.table))\n",
    "                break\n",
    "            else:\n",
    "                print(\"At page {}, can't locate Table of Contents\\n\".format(i))\n",
    "                \n",
    "    def toc_parser(self):\n",
    "        self.toc_locator()\n",
    "        toc_s = self.pdf[self.table]\n",
    "        self.contents = re.findall('(.*?)[\\W]+(\\d+)(?=\\n|$)', toc_s, flags=re.M)\n",
    "        return self.contents\n",
    "    \n",
    "    def toc_parser_all(self):\n",
    "        self.pdf_all = \"\\n\\n\".join(self.pdf)\n",
    "        self.contents = re.findall('(.*?)[\\W]+(\\d+)(?=\\n|$)', self.pdf_all, flags=re.M)\n",
    "        self.romans = [\"I.\", \"II.\", \"III.\", \"IV.\", \"V.\", \"VI.\", \"VII.\", \"VIII.\", \"IX.\", \"X.\"]\n",
    "        self.charger = []\n",
    "\n",
    "        for i in range(0,len(self.contents)):\n",
    "            checkee = self.contents[i][0].split()[0]\n",
    "            if checkee in self.romans:\n",
    "                print(i)\n",
    "                print(self.contents[i][0].split()[0], self.contents[i][0].split()[1])\n",
    "                self.charger.append((self.contents[i][0].split()[0], self.contents[i][0].split()[1]))\n",
    "                \n",
    "        return self.charger\n",
    "    \n",
    "    def cont_indexr(self, input_):\n",
    "        self.toc_parser_all()\n",
    "        self.indexr_main = []\n",
    "        for i in range(0, len(self.charger)):\n",
    "            if self.charger[i][1] == input_:\n",
    "                self.indexr_main.append(self.romans[i])\n",
    "                self.indexr_main.append(self.romans[i+1])\n",
    "        return self.indexr_main\n",
    "    \n",
    "    def cited_parser(self,str_):\n",
    "        cont_index = self.cont_indexr(str_)\n",
    "        self.cited = [] #cited articles depeding on findings or main\n",
    "\n",
    "        for i in range(0, len(self.contents)):\n",
    "            if self.contents[i][0].split()[0] == cont_index[0]:\n",
    "                indexr_cited = i\n",
    "                #cited.append(contents[indexr_cited+1][0].split()[1:3])\n",
    "        for i in range(indexr_cited+1, len(self.contents)):\n",
    "            if self.contents[i][0].split()[0] != cont_index[1]:\n",
    "                self.cited.append(self.contents[i][0])#.split()[1:])\n",
    "            else:\n",
    "                break\n",
    "        return self.cited\n",
    "    \n",
    "    def cited_III(self, str_):\n",
    "        self.cited_parser(str_)\n",
    "        self.cited_III = [] #crawls every III cited in findings list \n",
    "\n",
    "        for i in range(0, len(self.cited)):\n",
    "            if re.search(r\".*\\sIII.*\",self.cited[i]):\n",
    "                self.cited_III.append(self.cited[i])\n",
    "        return self.cited_III\n",
    "    \n",
    "    def list2pattern(self, lst):\n",
    "            return r'\\s+'.join(lst)\n",
    "        \n",
    "    def con_op_locer(self, target):\n",
    "        self.pdf_all = \"\\n\\n\".join(self.pdf)\n",
    "        reference = re.search(r\"[^\\s]+.*\",target).group()\n",
    "        lst = reference.split()\n",
    "        pattern = self.list2pattern(lst)\n",
    "        self.cands = re.findall(pattern, self.pdf_all)\n",
    "        #print(len(self.cands))\n",
    "        self.loca = self.pdf_all.rfind(self.cands[1])\n",
    "        print(\"op that corresponds to the target [{}] located at {}   \".format(target, self.loca))\n",
    "        return self.loca\n",
    "        \n",
    "    def entire(self):\n",
    "        print(\"Hi, I am your GATT_WTO panel_report parser.\")\n",
    "        print(\"You can retrieve any part you want in this pdf\")\n",
    "       \n",
    "        self.toc_parser_all() #list the options of toc chapter \n",
    "        \n",
    "        want = input(\"What do you want? Choose one among contents: Then type-in\")\n",
    "        print(\"You have sub-field of {} : {}\".format(want, self.cited_parser(want)))\n",
    "        \n",
    "        if want == 'FINDINGS':\n",
    "            agreer = input(\"Do you want only see GATT:III related?\")\n",
    "            if agreer == 'yes':\n",
    "                print(self.cited_III(\"FINDINGS\"))\n",
    "            else:\n",
    "                pass\n",
    "        \n",
    "        want = input(\"What do you want? Choose one among contents: Then type-in\")\n",
    "        \n",
    "        start = self.con_op_locer(want)\n",
    "        for i in range(0, len(self.cited)):\n",
    "            if self.cited[i] == want:\n",
    "                indexr = i\n",
    "            else:\n",
    "                pass\n",
    "            \n",
    "        end = self.con_op_locer(self.cited[indexr+1])\n",
    "        return self.pdf_all[start:end]"
   ]
  },
  {
   "cell_type": "code",
   "execution_count": 152,
   "metadata": {},
   "outputs": [],
   "source": [
    "trial = Panel_parser(\"/Users/zachary/Downloads/{}R.pdf\", 2)"
   ]
  },
  {
   "cell_type": "code",
   "execution_count": 155,
   "metadata": {},
   "outputs": [
    {
     "data": {
      "text/plain": [
       "<pdftotext.PDF at 0x10d51bf30>"
      ]
     },
     "execution_count": 155,
     "metadata": {},
     "output_type": "execute_result"
    }
   ],
   "source": [
    "trial.pdf"
   ]
  },
  {
   "cell_type": "code",
   "execution_count": 157,
   "metadata": {
    "scrolled": true
   },
   "outputs": [
    {
     "name": "stdout",
     "output_type": "stream",
     "text": [
      "Hi, I am your GATT_WTO panel_report parser.\n",
      "You can retrieve any part you want in this pdf\n",
      "1\n",
      "I. INTRODUCTION\n",
      "2\n",
      "II. FACTUAL\n",
      "9\n",
      "III. MAIN\n",
      "32\n",
      "IV. SUBMISSIONS\n",
      "35\n",
      "V. INTERIM\n",
      "36\n",
      "VI. FINDINGS\n",
      "53\n",
      "VII. CONCLUDING\n",
      "54\n",
      "VIII. CONCLUSIONS\n"
     ]
    },
    {
     "ename": "KeyboardInterrupt",
     "evalue": "",
     "output_type": "error",
     "traceback": [
      "\u001b[0;31m---------------------------------------------------------------------------\u001b[0m",
      "\u001b[0;31mKeyboardInterrupt\u001b[0m                         Traceback (most recent call last)",
      "\u001b[0;32m/usr/local/lib/python3.6/site-packages/ipykernel/kernelbase.py\u001b[0m in \u001b[0;36m_input_request\u001b[0;34m(self, prompt, ident, parent, password)\u001b[0m\n\u001b[1;32m    728\u001b[0m             \u001b[0;32mtry\u001b[0m\u001b[0;34m:\u001b[0m\u001b[0;34m\u001b[0m\u001b[0m\n\u001b[0;32m--> 729\u001b[0;31m                 \u001b[0mident\u001b[0m\u001b[0;34m,\u001b[0m \u001b[0mreply\u001b[0m \u001b[0;34m=\u001b[0m \u001b[0mself\u001b[0m\u001b[0;34m.\u001b[0m\u001b[0msession\u001b[0m\u001b[0;34m.\u001b[0m\u001b[0mrecv\u001b[0m\u001b[0;34m(\u001b[0m\u001b[0mself\u001b[0m\u001b[0;34m.\u001b[0m\u001b[0mstdin_socket\u001b[0m\u001b[0;34m,\u001b[0m \u001b[0;36m0\u001b[0m\u001b[0;34m)\u001b[0m\u001b[0;34m\u001b[0m\u001b[0m\n\u001b[0m\u001b[1;32m    730\u001b[0m             \u001b[0;32mexcept\u001b[0m \u001b[0mException\u001b[0m\u001b[0;34m:\u001b[0m\u001b[0;34m\u001b[0m\u001b[0m\n",
      "\u001b[0;32m/usr/local/lib/python3.6/site-packages/jupyter_client/session.py\u001b[0m in \u001b[0;36mrecv\u001b[0;34m(self, socket, mode, content, copy)\u001b[0m\n\u001b[1;32m    802\u001b[0m         \u001b[0;32mtry\u001b[0m\u001b[0;34m:\u001b[0m\u001b[0;34m\u001b[0m\u001b[0m\n\u001b[0;32m--> 803\u001b[0;31m             \u001b[0mmsg_list\u001b[0m \u001b[0;34m=\u001b[0m \u001b[0msocket\u001b[0m\u001b[0;34m.\u001b[0m\u001b[0mrecv_multipart\u001b[0m\u001b[0;34m(\u001b[0m\u001b[0mmode\u001b[0m\u001b[0;34m,\u001b[0m \u001b[0mcopy\u001b[0m\u001b[0;34m=\u001b[0m\u001b[0mcopy\u001b[0m\u001b[0;34m)\u001b[0m\u001b[0;34m\u001b[0m\u001b[0m\n\u001b[0m\u001b[1;32m    804\u001b[0m         \u001b[0;32mexcept\u001b[0m \u001b[0mzmq\u001b[0m\u001b[0;34m.\u001b[0m\u001b[0mZMQError\u001b[0m \u001b[0;32mas\u001b[0m \u001b[0me\u001b[0m\u001b[0;34m:\u001b[0m\u001b[0;34m\u001b[0m\u001b[0m\n",
      "\u001b[0;32m/usr/local/lib/python3.6/site-packages/zmq/sugar/socket.py\u001b[0m in \u001b[0;36mrecv_multipart\u001b[0;34m(self, flags, copy, track)\u001b[0m\n\u001b[1;32m    465\u001b[0m         \"\"\"\n\u001b[0;32m--> 466\u001b[0;31m         \u001b[0mparts\u001b[0m \u001b[0;34m=\u001b[0m \u001b[0;34m[\u001b[0m\u001b[0mself\u001b[0m\u001b[0;34m.\u001b[0m\u001b[0mrecv\u001b[0m\u001b[0;34m(\u001b[0m\u001b[0mflags\u001b[0m\u001b[0;34m,\u001b[0m \u001b[0mcopy\u001b[0m\u001b[0;34m=\u001b[0m\u001b[0mcopy\u001b[0m\u001b[0;34m,\u001b[0m \u001b[0mtrack\u001b[0m\u001b[0;34m=\u001b[0m\u001b[0mtrack\u001b[0m\u001b[0;34m)\u001b[0m\u001b[0;34m]\u001b[0m\u001b[0;34m\u001b[0m\u001b[0m\n\u001b[0m\u001b[1;32m    467\u001b[0m         \u001b[0;31m# have first part already, only loop while more to receive\u001b[0m\u001b[0;34m\u001b[0m\u001b[0;34m\u001b[0m\u001b[0m\n",
      "\u001b[0;32mzmq/backend/cython/socket.pyx\u001b[0m in \u001b[0;36mzmq.backend.cython.socket.Socket.recv\u001b[0;34m()\u001b[0m\n",
      "\u001b[0;32mzmq/backend/cython/socket.pyx\u001b[0m in \u001b[0;36mzmq.backend.cython.socket.Socket.recv\u001b[0;34m()\u001b[0m\n",
      "\u001b[0;32mzmq/backend/cython/socket.pyx\u001b[0m in \u001b[0;36mzmq.backend.cython.socket._recv_copy\u001b[0;34m()\u001b[0m\n",
      "\u001b[0;32m/usr/local/lib/python3.6/site-packages/zmq/backend/cython/checkrc.pxd\u001b[0m in \u001b[0;36mzmq.backend.cython.checkrc._check_rc\u001b[0;34m()\u001b[0m\n",
      "\u001b[0;31mKeyboardInterrupt\u001b[0m: ",
      "\nDuring handling of the above exception, another exception occurred:\n",
      "\u001b[0;31mKeyboardInterrupt\u001b[0m                         Traceback (most recent call last)",
      "\u001b[0;32m<ipython-input-157-591946172b48>\u001b[0m in \u001b[0;36m<module>\u001b[0;34m()\u001b[0m\n\u001b[0;32m----> 1\u001b[0;31m \u001b[0mtrial\u001b[0m\u001b[0;34m.\u001b[0m\u001b[0mentire\u001b[0m\u001b[0;34m(\u001b[0m\u001b[0;34m)\u001b[0m \u001b[0;31m#only works for FACTUAL and MAIN as of NOW\u001b[0m\u001b[0;34m\u001b[0m\u001b[0m\n\u001b[0m",
      "\u001b[0;32m<ipython-input-149-53e345da1c1f>\u001b[0m in \u001b[0;36mentire\u001b[0;34m(self)\u001b[0m\n\u001b[1;32m     90\u001b[0m         \u001b[0mself\u001b[0m\u001b[0;34m.\u001b[0m\u001b[0mtoc_parser_all\u001b[0m\u001b[0;34m(\u001b[0m\u001b[0;34m)\u001b[0m \u001b[0;31m#list the options of toc chapter\u001b[0m\u001b[0;34m\u001b[0m\u001b[0m\n\u001b[1;32m     91\u001b[0m \u001b[0;34m\u001b[0m\u001b[0m\n\u001b[0;32m---> 92\u001b[0;31m         \u001b[0mwant\u001b[0m \u001b[0;34m=\u001b[0m \u001b[0minput\u001b[0m\u001b[0;34m(\u001b[0m\u001b[0;34m\"What do you want? Choose one among contents: Then type-in\"\u001b[0m\u001b[0;34m)\u001b[0m\u001b[0;34m\u001b[0m\u001b[0m\n\u001b[0m\u001b[1;32m     93\u001b[0m         \u001b[0mprint\u001b[0m\u001b[0;34m(\u001b[0m\u001b[0;34m\"You have sub-field of {} : {}\"\u001b[0m\u001b[0;34m.\u001b[0m\u001b[0mformat\u001b[0m\u001b[0;34m(\u001b[0m\u001b[0mwant\u001b[0m\u001b[0;34m,\u001b[0m \u001b[0mself\u001b[0m\u001b[0;34m.\u001b[0m\u001b[0mcited_parser\u001b[0m\u001b[0;34m(\u001b[0m\u001b[0mwant\u001b[0m\u001b[0;34m)\u001b[0m\u001b[0;34m)\u001b[0m\u001b[0;34m)\u001b[0m\u001b[0;34m\u001b[0m\u001b[0m\n\u001b[1;32m     94\u001b[0m \u001b[0;34m\u001b[0m\u001b[0m\n",
      "\u001b[0;32m/usr/local/lib/python3.6/site-packages/ipykernel/kernelbase.py\u001b[0m in \u001b[0;36mraw_input\u001b[0;34m(self, prompt)\u001b[0m\n\u001b[1;32m    702\u001b[0m             \u001b[0mself\u001b[0m\u001b[0;34m.\u001b[0m\u001b[0m_parent_ident\u001b[0m\u001b[0;34m,\u001b[0m\u001b[0;34m\u001b[0m\u001b[0m\n\u001b[1;32m    703\u001b[0m             \u001b[0mself\u001b[0m\u001b[0;34m.\u001b[0m\u001b[0m_parent_header\u001b[0m\u001b[0;34m,\u001b[0m\u001b[0;34m\u001b[0m\u001b[0m\n\u001b[0;32m--> 704\u001b[0;31m             \u001b[0mpassword\u001b[0m\u001b[0;34m=\u001b[0m\u001b[0;32mFalse\u001b[0m\u001b[0;34m,\u001b[0m\u001b[0;34m\u001b[0m\u001b[0m\n\u001b[0m\u001b[1;32m    705\u001b[0m         )\n\u001b[1;32m    706\u001b[0m \u001b[0;34m\u001b[0m\u001b[0m\n",
      "\u001b[0;32m/usr/local/lib/python3.6/site-packages/ipykernel/kernelbase.py\u001b[0m in \u001b[0;36m_input_request\u001b[0;34m(self, prompt, ident, parent, password)\u001b[0m\n\u001b[1;32m    732\u001b[0m             \u001b[0;32mexcept\u001b[0m \u001b[0mKeyboardInterrupt\u001b[0m\u001b[0;34m:\u001b[0m\u001b[0;34m\u001b[0m\u001b[0m\n\u001b[1;32m    733\u001b[0m                 \u001b[0;31m# re-raise KeyboardInterrupt, to truncate traceback\u001b[0m\u001b[0;34m\u001b[0m\u001b[0;34m\u001b[0m\u001b[0m\n\u001b[0;32m--> 734\u001b[0;31m                 \u001b[0;32mraise\u001b[0m \u001b[0mKeyboardInterrupt\u001b[0m\u001b[0;34m\u001b[0m\u001b[0m\n\u001b[0m\u001b[1;32m    735\u001b[0m             \u001b[0;32melse\u001b[0m\u001b[0;34m:\u001b[0m\u001b[0;34m\u001b[0m\u001b[0m\n\u001b[1;32m    736\u001b[0m                 \u001b[0;32mbreak\u001b[0m\u001b[0;34m\u001b[0m\u001b[0m\n",
      "\u001b[0;31mKeyboardInterrupt\u001b[0m: "
     ]
    }
   ],
   "source": [
    "trial.entire() #only works for FACTUAL and MAIN as of NOW"
   ]
  },
  {
   "cell_type": "markdown",
   "metadata": {},
   "source": [
    "### then type in FACUTAL or FINDINGS"
   ]
  },
  {
   "cell_type": "code",
   "execution_count": 158,
   "metadata": {},
   "outputs": [
    {
     "name": "stdout",
     "output_type": "stream",
     "text": [
      "Hi, I am your GATT_WTO panel_report parser.\n",
      "You can retrieve any part you want in this pdf\n",
      "1\n",
      "I. INTRODUCTION\n",
      "2\n",
      "II. FACTUAL\n",
      "9\n",
      "III. MAIN\n",
      "32\n",
      "IV. SUBMISSIONS\n",
      "35\n",
      "V. INTERIM\n",
      "36\n",
      "VI. FINDINGS\n",
      "53\n",
      "VII. CONCLUDING\n",
      "54\n",
      "VIII. CONCLUSIONS\n",
      "What do you want? Choose one among contents: Then type-inFACTUAL\n",
      "1\n",
      "I. INTRODUCTION\n",
      "2\n",
      "II. FACTUAL\n",
      "9\n",
      "III. MAIN\n",
      "32\n",
      "IV. SUBMISSIONS\n",
      "35\n",
      "V. INTERIM\n",
      "36\n",
      "VI. FINDINGS\n",
      "53\n",
      "VII. CONCLUDING\n",
      "54\n",
      "VIII. CONCLUSIONS\n",
      "You have sub-field of FACTUAL : ['     A.   The Clean Air Act', \"     B.   EPA's Gasoline Rule\", '          1.     Establishment of Baselines', '          2.     Reformulated Gasoline', '          3.     Conventional Gasoline (or \"Anti-Dumping Rules', '     C.   The May 1994 Proposal']\n"
     ]
    },
    {
     "ename": "KeyboardInterrupt",
     "evalue": "",
     "output_type": "error",
     "traceback": [
      "\u001b[0;31m---------------------------------------------------------------------------\u001b[0m",
      "\u001b[0;31mKeyboardInterrupt\u001b[0m                         Traceback (most recent call last)",
      "\u001b[0;32m/usr/local/lib/python3.6/site-packages/ipykernel/kernelbase.py\u001b[0m in \u001b[0;36m_input_request\u001b[0;34m(self, prompt, ident, parent, password)\u001b[0m\n\u001b[1;32m    728\u001b[0m             \u001b[0;32mtry\u001b[0m\u001b[0;34m:\u001b[0m\u001b[0;34m\u001b[0m\u001b[0m\n\u001b[0;32m--> 729\u001b[0;31m                 \u001b[0mident\u001b[0m\u001b[0;34m,\u001b[0m \u001b[0mreply\u001b[0m \u001b[0;34m=\u001b[0m \u001b[0mself\u001b[0m\u001b[0;34m.\u001b[0m\u001b[0msession\u001b[0m\u001b[0;34m.\u001b[0m\u001b[0mrecv\u001b[0m\u001b[0;34m(\u001b[0m\u001b[0mself\u001b[0m\u001b[0;34m.\u001b[0m\u001b[0mstdin_socket\u001b[0m\u001b[0;34m,\u001b[0m \u001b[0;36m0\u001b[0m\u001b[0;34m)\u001b[0m\u001b[0;34m\u001b[0m\u001b[0m\n\u001b[0m\u001b[1;32m    730\u001b[0m             \u001b[0;32mexcept\u001b[0m \u001b[0mException\u001b[0m\u001b[0;34m:\u001b[0m\u001b[0;34m\u001b[0m\u001b[0m\n",
      "\u001b[0;32m/usr/local/lib/python3.6/site-packages/jupyter_client/session.py\u001b[0m in \u001b[0;36mrecv\u001b[0;34m(self, socket, mode, content, copy)\u001b[0m\n\u001b[1;32m    802\u001b[0m         \u001b[0;32mtry\u001b[0m\u001b[0;34m:\u001b[0m\u001b[0;34m\u001b[0m\u001b[0m\n\u001b[0;32m--> 803\u001b[0;31m             \u001b[0mmsg_list\u001b[0m \u001b[0;34m=\u001b[0m \u001b[0msocket\u001b[0m\u001b[0;34m.\u001b[0m\u001b[0mrecv_multipart\u001b[0m\u001b[0;34m(\u001b[0m\u001b[0mmode\u001b[0m\u001b[0;34m,\u001b[0m \u001b[0mcopy\u001b[0m\u001b[0;34m=\u001b[0m\u001b[0mcopy\u001b[0m\u001b[0;34m)\u001b[0m\u001b[0;34m\u001b[0m\u001b[0m\n\u001b[0m\u001b[1;32m    804\u001b[0m         \u001b[0;32mexcept\u001b[0m \u001b[0mzmq\u001b[0m\u001b[0;34m.\u001b[0m\u001b[0mZMQError\u001b[0m \u001b[0;32mas\u001b[0m \u001b[0me\u001b[0m\u001b[0;34m:\u001b[0m\u001b[0;34m\u001b[0m\u001b[0m\n",
      "\u001b[0;32m/usr/local/lib/python3.6/site-packages/zmq/sugar/socket.py\u001b[0m in \u001b[0;36mrecv_multipart\u001b[0;34m(self, flags, copy, track)\u001b[0m\n\u001b[1;32m    465\u001b[0m         \"\"\"\n\u001b[0;32m--> 466\u001b[0;31m         \u001b[0mparts\u001b[0m \u001b[0;34m=\u001b[0m \u001b[0;34m[\u001b[0m\u001b[0mself\u001b[0m\u001b[0;34m.\u001b[0m\u001b[0mrecv\u001b[0m\u001b[0;34m(\u001b[0m\u001b[0mflags\u001b[0m\u001b[0;34m,\u001b[0m \u001b[0mcopy\u001b[0m\u001b[0;34m=\u001b[0m\u001b[0mcopy\u001b[0m\u001b[0;34m,\u001b[0m \u001b[0mtrack\u001b[0m\u001b[0;34m=\u001b[0m\u001b[0mtrack\u001b[0m\u001b[0;34m)\u001b[0m\u001b[0;34m]\u001b[0m\u001b[0;34m\u001b[0m\u001b[0m\n\u001b[0m\u001b[1;32m    467\u001b[0m         \u001b[0;31m# have first part already, only loop while more to receive\u001b[0m\u001b[0;34m\u001b[0m\u001b[0;34m\u001b[0m\u001b[0m\n",
      "\u001b[0;32mzmq/backend/cython/socket.pyx\u001b[0m in \u001b[0;36mzmq.backend.cython.socket.Socket.recv\u001b[0;34m()\u001b[0m\n",
      "\u001b[0;32mzmq/backend/cython/socket.pyx\u001b[0m in \u001b[0;36mzmq.backend.cython.socket.Socket.recv\u001b[0;34m()\u001b[0m\n",
      "\u001b[0;32mzmq/backend/cython/socket.pyx\u001b[0m in \u001b[0;36mzmq.backend.cython.socket._recv_copy\u001b[0;34m()\u001b[0m\n",
      "\u001b[0;32m/usr/local/lib/python3.6/site-packages/zmq/backend/cython/checkrc.pxd\u001b[0m in \u001b[0;36mzmq.backend.cython.checkrc._check_rc\u001b[0;34m()\u001b[0m\n",
      "\u001b[0;31mKeyboardInterrupt\u001b[0m: ",
      "\nDuring handling of the above exception, another exception occurred:\n",
      "\u001b[0;31mKeyboardInterrupt\u001b[0m                         Traceback (most recent call last)",
      "\u001b[0;32m<ipython-input-158-73daf1dcdcb7>\u001b[0m in \u001b[0;36m<module>\u001b[0;34m()\u001b[0m\n\u001b[0;32m----> 1\u001b[0;31m \u001b[0mtrial\u001b[0m\u001b[0;34m.\u001b[0m\u001b[0mentire\u001b[0m\u001b[0;34m(\u001b[0m\u001b[0;34m)\u001b[0m\u001b[0;34m\u001b[0m\u001b[0m\n\u001b[0m",
      "\u001b[0;32m<ipython-input-149-53e345da1c1f>\u001b[0m in \u001b[0;36mentire\u001b[0;34m(self)\u001b[0m\n\u001b[1;32m    100\u001b[0m                 \u001b[0;32mpass\u001b[0m\u001b[0;34m\u001b[0m\u001b[0m\n\u001b[1;32m    101\u001b[0m \u001b[0;34m\u001b[0m\u001b[0m\n\u001b[0;32m--> 102\u001b[0;31m         \u001b[0mwant\u001b[0m \u001b[0;34m=\u001b[0m \u001b[0minput\u001b[0m\u001b[0;34m(\u001b[0m\u001b[0;34m\"What do you want? Choose one among contents: Then type-in\"\u001b[0m\u001b[0;34m)\u001b[0m\u001b[0;34m\u001b[0m\u001b[0m\n\u001b[0m\u001b[1;32m    103\u001b[0m \u001b[0;34m\u001b[0m\u001b[0m\n\u001b[1;32m    104\u001b[0m         \u001b[0mstart\u001b[0m \u001b[0;34m=\u001b[0m \u001b[0mself\u001b[0m\u001b[0;34m.\u001b[0m\u001b[0mcon_op_locer\u001b[0m\u001b[0;34m(\u001b[0m\u001b[0mwant\u001b[0m\u001b[0;34m)\u001b[0m\u001b[0;34m\u001b[0m\u001b[0m\n",
      "\u001b[0;32m/usr/local/lib/python3.6/site-packages/ipykernel/kernelbase.py\u001b[0m in \u001b[0;36mraw_input\u001b[0;34m(self, prompt)\u001b[0m\n\u001b[1;32m    702\u001b[0m             \u001b[0mself\u001b[0m\u001b[0;34m.\u001b[0m\u001b[0m_parent_ident\u001b[0m\u001b[0;34m,\u001b[0m\u001b[0;34m\u001b[0m\u001b[0m\n\u001b[1;32m    703\u001b[0m             \u001b[0mself\u001b[0m\u001b[0;34m.\u001b[0m\u001b[0m_parent_header\u001b[0m\u001b[0;34m,\u001b[0m\u001b[0;34m\u001b[0m\u001b[0m\n\u001b[0;32m--> 704\u001b[0;31m             \u001b[0mpassword\u001b[0m\u001b[0;34m=\u001b[0m\u001b[0;32mFalse\u001b[0m\u001b[0;34m,\u001b[0m\u001b[0;34m\u001b[0m\u001b[0m\n\u001b[0m\u001b[1;32m    705\u001b[0m         )\n\u001b[1;32m    706\u001b[0m \u001b[0;34m\u001b[0m\u001b[0m\n",
      "\u001b[0;32m/usr/local/lib/python3.6/site-packages/ipykernel/kernelbase.py\u001b[0m in \u001b[0;36m_input_request\u001b[0;34m(self, prompt, ident, parent, password)\u001b[0m\n\u001b[1;32m    732\u001b[0m             \u001b[0;32mexcept\u001b[0m \u001b[0mKeyboardInterrupt\u001b[0m\u001b[0;34m:\u001b[0m\u001b[0;34m\u001b[0m\u001b[0m\n\u001b[1;32m    733\u001b[0m                 \u001b[0;31m# re-raise KeyboardInterrupt, to truncate traceback\u001b[0m\u001b[0;34m\u001b[0m\u001b[0;34m\u001b[0m\u001b[0m\n\u001b[0;32m--> 734\u001b[0;31m                 \u001b[0;32mraise\u001b[0m \u001b[0mKeyboardInterrupt\u001b[0m\u001b[0;34m\u001b[0m\u001b[0m\n\u001b[0m\u001b[1;32m    735\u001b[0m             \u001b[0;32melse\u001b[0m\u001b[0;34m:\u001b[0m\u001b[0;34m\u001b[0m\u001b[0m\n\u001b[1;32m    736\u001b[0m                 \u001b[0;32mbreak\u001b[0m\u001b[0;34m\u001b[0m\u001b[0m\n",
      "\u001b[0;31mKeyboardInterrupt\u001b[0m: "
     ]
    }
   ],
   "source": [
    "trial.entire()"
   ]
  },
  {
   "cell_type": "markdown",
   "metadata": {},
   "source": [
    "### COPY and PASTE among the sub-field elements. For example, try     A.   The Clean Air Act"
   ]
  },
  {
   "cell_type": "code",
   "execution_count": 159,
   "metadata": {},
   "outputs": [
    {
     "name": "stdout",
     "output_type": "stream",
     "text": [
      "Hi, I am your GATT_WTO panel_report parser.\n",
      "You can retrieve any part you want in this pdf\n",
      "1\n",
      "I. INTRODUCTION\n",
      "2\n",
      "II. FACTUAL\n",
      "9\n",
      "III. MAIN\n",
      "32\n",
      "IV. SUBMISSIONS\n",
      "35\n",
      "V. INTERIM\n",
      "36\n",
      "VI. FINDINGS\n",
      "53\n",
      "VII. CONCLUDING\n",
      "54\n",
      "VIII. CONCLUSIONS\n",
      "What do you want? Choose one among contents: Then type-inFINDINGS\n",
      "1\n",
      "I. INTRODUCTION\n",
      "2\n",
      "II. FACTUAL\n",
      "9\n",
      "III. MAIN\n",
      "32\n",
      "IV. SUBMISSIONS\n",
      "35\n",
      "V. INTERIM\n",
      "36\n",
      "VI. FINDINGS\n",
      "53\n",
      "VII. CONCLUDING\n",
      "54\n",
      "VIII. CONCLUSIONS\n",
      "You have sub-field of FINDINGS : ['    A.    Introduction', '    B.    Article III', '          1.      Article III:4', '          2.      Article III:1', '    C.    Article I:1', '    D.    Article XX(b', '          1.      Policy goal of protecting human, animal or plant life or health', '          2.      Necessity of the inconsistent measure', '    E.    Article XX(d', '          1.      Securing compliance with consistent laws or regulations', '          2.      Other conditions', '    F.    Article XX(g', '          1.      Policy goal of conserving an exhaustible natural resource', '                   on domestic production or consumption', '      G.   Article XXIII:1(b', '      H.   Applicability of the Agreement on Technical Barriers to Trade']\n",
      "Do you want only see GATT:III related?    A.    Introduction\n",
      "What do you want? Choose one among contents: Then type-in    A.    Introduction\n",
      "op that corresponds to the target [    A.    Introduction] located at 138699   \n",
      "op that corresponds to the target [    B.    Article III] located at 142511   \n"
     ]
    },
    {
     "data": {
      "text/plain": [
       "'A.      Introduction\\n6.1      The Panel noted that the dispute arose from the following facts. The Clean Air Act aims\\nto control and reduce air pollution in the United States. The Act and certain of its regulations (the\\n“Gasoline Rule”) set standards for gasoline quality intended to reduce air pollution, including\\nozone, caused by motor vehicle emissions. From 1 January 1995, the Gasoline Rule permits only\\ngasoline of a specified cleanliness (“reformulated gasoline”) to be sold in areas of high air\\npollution. In other areas, only gasoline no dirtier than that sold in the base year of 1990\\n(“conventional gasoline”) can be sold.\\n6.2      The Gasoline Rule applies to refiners, blenders and importers of gasoline. It requires that\\ncertain chemical characteristics of the gasoline in which they deal respect, on an annual average\\nbasis, defined levels. In the Gasoline Rule some of these levels are fixed; others are expressed as\\n“non-degradation” requirements. Under the non-degradation requirements, each domestic refiner\\nmust maintain, on an annual average basis, the relevant gasoline characteristics at levels no worse\\nthan its “individual baseline” — that is, the annual average levels achieved by that refiner in 1990.\\nTo establish an individual baseline, a refiner must show evidence of the quality of gasoline\\nproduced or shipped in 1990 (“Method 1\"). If that evidence is not complete, then it must use data\\non the quality of blendstock produced in 1990 (“Method 2\"). If these two methods do not result\\nin sufficient evidence, the refiner must also use data on the quality of post-1990 gasoline\\nblendstock or gasoline (“Method 3\").\\n6.3      Importers are also required to use an individual baseline, but only in the case (unlikely,\\naccording to the parties to the dispute) that they are able to establish it using Method 1 data.\\nUnlike domestic refiners, they are not allowed to establish an individual baseline by using the\\nsecondary or tertiary data specified in Methods 2 and 3. If an importer cannot produce Method 1\\ndata, then it must use a “statutory baseline” which the United States claims is derived from the\\naverage characteristics of all gasoline consumed in the United States in 1990. Some other\\ndomestic entities (such as refiners with only partial or no 1990 operations, and blenders with\\ninsufficient Method 1 data) are also assigned the statutory baseline. Exceptionally, importers that\\nimported in 1990 at least 75 percent of the production of an affiliated foreign refinery are treated\\nas domestic refiners for the purpose of establishing baselines. Since this dispute concerns only the\\n\\n\\n                                                                                   WT/DS2/R\\n                                                                                   Page 33\\nGasoline Rule’s non-degradation requirements, and not reformulated and conventional gasoline as\\nsuch, the Panel will refer generally to “gasoline” in the course of its findings.\\n6.4      Venezuela and Brazil claim that the Gasoline Rule violates the national treatment\\nprovisions of Article III:1 and 4 of the General Agreement and the most-favoured-nation provision\\nof Article I. Venezuela claims in the alternative that the Gasoline Rule has nullified and impaired\\nbenefits under the non-violation provisions of Article XXIII:1(b). Venezuela and Brazil also claim\\nthat the Gasoline Rule violates Article 2 of the Agreement on Technical Barriers to Trade (the\\n“TBT Agreement”). The United States rejects these claims and argues that the Gasoline Rule can\\nbe justified under the exceptions contained in Article XX, paragraphs (b), (d) and (g), which\\nargument is rejected by Venezuela and Brazil. It also argues that the Gasoline Rule does not\\ncome within the scope of Article 2 of the TBT Agreement.\\n         '"
      ]
     },
     "execution_count": 159,
     "metadata": {},
     "output_type": "execute_result"
    }
   ],
   "source": [
    "trial.entire()"
   ]
  },
  {
   "cell_type": "markdown",
   "metadata": {},
   "source": [
    "### You get the part of the pdf where is only specific to    A.    Introduction"
   ]
  },
  {
   "cell_type": "code",
   "execution_count": null,
   "metadata": {},
   "outputs": [],
   "source": []
  }
 ],
 "metadata": {
  "kernelspec": {
   "display_name": "Python 3",
   "language": "python",
   "name": "python3"
  },
  "language_info": {
   "codemirror_mode": {
    "name": "ipython",
    "version": 3
   },
   "file_extension": ".py",
   "mimetype": "text/x-python",
   "name": "python",
   "nbconvert_exporter": "python",
   "pygments_lexer": "ipython3",
   "version": "3.6.4"
  }
 },
 "nbformat": 4,
 "nbformat_minor": 2
}
